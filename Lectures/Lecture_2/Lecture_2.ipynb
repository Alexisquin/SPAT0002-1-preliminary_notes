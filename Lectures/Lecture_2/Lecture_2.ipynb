{
 "cells": [
  {
   "cell_type": "markdown",
   "metadata": {},
   "source": [
    "# Python modules & introduction to `numpy`, `scipy`, `matplotlib`"
   ]
  },
  {
   "cell_type": "markdown",
   "metadata": {},
   "source": [
    "## I.  What is a module ?\n",
    "\n",
    "We have seen the main structures/objects (e.g. `list`, `dictionary`) during the last lecture as well as methods attached to those (e.g. `list.append(val)`). We have also seen how to build functions (kind of scripts that allow you to automatize some sequences of operations). \n",
    "\n",
    "If you quit from the Python interpreter and enter it again, the definitions you have made (functions and variables) are lost. Therefore, if you want to write a somewhat longer program, you are better off using a text editor to prepare the input for the interpreter and running it with that file as input instead. This is known as creating a script. As your program gets longer, you may want to split it into several files for easier maintenance. You may also want to use a handy function that you’ve written in several programs without copying its definition into each program.\n",
    "\n",
    "To support this, Python has a way to put definitions in a file and use them in a script or in an interactive instance of the interpreter. Such a file is called a module; definitions from a module can be imported into other modules or into the main module (the collection of variables that you have access to in a script executed at the top level and in calculator mode).\n",
    "\n",
    "A module is a file containing Python definitions and statements. The file name is the module name with the suffix `.py` appended. When you want to make use of a module in a program or in an interactive window, you should simply do: \n",
    "\n",
    "In file `myawesomemodule.py`, we have written\n",
    "``` python\n",
    "def talk():\n",
    "    print 'What do you want master ?'\n",
    "    return\n",
    "```\n",
    "\n",
    "\n",
    "``` python \n",
    "import myawesomemodule\n",
    "myawesomemodule.talk()   # call the function talk() you have defined in myawesomemodule.py\n",
    "    Out: 'What do you want master ?'\n",
    "\n",
    "# you can also do this the following way\n",
    "import myawesomemodule as ms\n",
    "ms.talk()\n",
    "\n",
    "# or, if you want to only call the function talk:\n",
    "from myawesomemodule import talk\n",
    "talk()\n",
    "\n",
    "```\n",
    "\n",
    "**Exercise:**\n",
    "\n",
    "Create a module `area` that calculates areas of simple geometric figures.   \n",
    "Let's start with a square, and a circle.\n"
   ]
  },
  {
   "cell_type": "code",
   "execution_count": 10,
   "metadata": {
    "collapsed": false
   },
   "outputs": [
    {
     "name": "stdout",
     "output_type": "stream",
     "text": [
      "/mnt/hgfs/work_nb/Desktop-OSX/Ulg-Admin-Rbt/COURS-ENSEIGNEMENT-theses-master/Cours-Methodes-numeriques-programmation/Lectures/Lecture_2\n",
      "What do you want master ?\n",
      "4\n",
      "12.5664\n"
     ]
    }
   ],
   "source": [
    "# Import the module `area` you have created and calculate the area of a square of side s=2; circle of radius r=2)\n",
    "import os, shutil\n",
    "os.chdir('../Lecture_2')\n",
    "!pwd\n",
    "import myawesomemodule, area\n",
    "myawesomemodule.talk()\n",
    "print area.square(2)\n",
    "print area.circle(2)"
   ]
  },
  {
   "cell_type": "markdown",
   "metadata": {},
   "source": [
    "In python, there is `.pyc` files often generated with the same name as the module/~~script~~ you are importing/~~running~~. Imagine you have a module `sayhello.py`. When you import your module the first time, a file `sayhello.pyc` will be created, that contains an already-\"byte-compiled\" version of `sayhello.py` to speed up the execution. The modification time of the version of `sayhello.py` is used to create `spam.pyc` is recorded in `sayhello.pyc`, and the `.pyc` file is ignored if these don't match. A program does not run faster when read from a `pyc` instead of a `py`, but **it is loaded** more quickly.  \n",
    "\n",
    "If you have loaded your module in an `Ipython` and then modify it with an editor, it won't account directly for your modifications (because it the `pyc` has not been re-compiled). You need to [reload()](https://docs.python.org/2/library/functions.html#reload) your module to implement your changes in the current session. \n",
    "\n",
    "** Notes: **\n",
    "When a module named `spam` is imported, the interpreter first searches for a built-in module with that name. If not found, it then searches for a file named `spam.py` in a list of directories given by the variable `sys.path` (see below). `sys.path` is initialized from these locations:\n",
    "- the directory containing the input script (or the current directory).\n",
    "- `PYTHONPATH` (a list of directory names, with the same syntax as the shell variable PATH).\n",
    "- the installation-dependent default.\n",
    "\n",
    "After initialization, Python programs can modify `sys.path`. The directory containing the script being run is placed at the beginning of the search path, ahead of the standard library path. This means that scripts in that directory will be loaded instead of modules of the same name in the library directory. This is an error unless the replacement is intended."
   ]
  },
  {
   "cell_type": "markdown",
   "metadata": {},
   "source": [
    "You can create your own modules ovbiously, but one of the great asset of python is the availability of a **huge** library of third-party modules, often designed by scientists for scientists (including astronomers !). Some of these modules introduce new structures/objects that you may have to masterize/understand by yourself. There is some modules that **YOU NEED TO KNOW** to efficiently work on data-science related projects: `numpy`, `scipy` and `matplotlib` ... We will extensively use those modules when studying numerical methods for data analysis. \n"
   ]
  },
  {
   "cell_type": "markdown",
   "metadata": {},
   "source": [
    "## II. `numpy`:\n",
    "\n",
    "`numpy` can be seen as the implementation of mathematical functions and operations for python language. It also introduces one key object `arrays`. \n",
    "\n",
    "### `array`: \n",
    "\n",
    "A `numpy` array is an object of the type `np.ndarray` (although this type specifier is rarely used directly). Instead one can create arrays in several ways: \n",
    "``` python\n",
    "import numpy as np\n",
    "np.array([1,2,3,4])   # creates an array from a python list\n",
    "np.array([[0, 1, 2], [3, 4, 5]])   # Creates a 2D array from a python list\n",
    "np.arange(5) # similar to the built-in range() function\n",
    "np.linsppace(1, 10, 10) # creates an array of 10 elements from 1 to 10\n",
    "np.zeros(10)  # creates an array fo 10 elements filled with 0\n",
    "np.ones(10)   # creates an array of 5 elements filled with 1\n",
    "np.zeros((2, 5))  # mulitdimensional arrays of 2 rows and 5 columns\n",
    "\n",
    "```\n",
    "2-D arrays of `shape=(r, c)` are arrays with `r` *rows* and `c` *columns*. \n",
    "\n",
    "numpy has also tools to create arrays filled with random elements:\n",
    "``` python\n",
    "np.random.random(size=4)  # uniform between 0 and 1\n",
    "np.random.normal(size=4)  # elements are std-normal distributed\n",
    "\n",
    "```"
   ]
  },
  {
   "cell_type": "code",
   "execution_count": null,
   "metadata": {
    "collapsed": true
   },
   "outputs": [],
   "source": [
    "# Use this cell to experiement with several ways of creating an array as shown above.\n",
    "\n"
   ]
  },
  {
   "cell_type": "code",
   "execution_count": null,
   "metadata": {
    "collapsed": true
   },
   "outputs": [],
   "source": [
    "a = np.array([[1,2,3,4], [4,5,6,7]])\n",
    "# What is the output of a.dim, a.shape, len(a) and how does it relate to the rows, columns, dimensions."
   ]
  },
  {
   "cell_type": "code",
   "execution_count": null,
   "metadata": {
    "collapsed": true
   },
   "outputs": [],
   "source": []
  },
  {
   "cell_type": "markdown",
   "metadata": {},
   "source": [
    "**Exercise:** Elementwise operations\n",
    "\n",
    "In the code cell below, try simple arithmetic elementwise operations: \n",
    "- add even elements with odd elements\n",
    "- Time them against their pure python counterparts using %timeit.\n",
    "- Generate:\n",
    "   `[2**0, 2**1, 2**2, 2**3, 2**4]`\n",
    "   `a_j = 2^(3*j) - j `"
   ]
  },
  {
   "cell_type": "code",
   "execution_count": null,
   "metadata": {
    "collapsed": true
   },
   "outputs": [],
   "source": []
  },
  {
   "cell_type": "markdown",
   "metadata": {},
   "source": [
    "Python is fast *for coding and developping* but python is slow when it comes to *execution*, especially when it comes to execution of for loops.    \n",
    "The reason behind this low speed is e.g. that when it does `for a in range(10): a + b`, it has to check the `type` of `a`, of `b` and of *each value* in those lists before executing. \n",
    "\n",
    "`numpy` helps speeding up code through 4 strategies:\n",
    "1. `ufunc`\n",
    "2. aggregation\n",
    "3. broadcasting\n",
    "4. slicing, masking, fancy indexing"
   ]
  },
  {
   "cell_type": "markdown",
   "metadata": {},
   "source": [
    "### II.1 `ufunc`: operates elementwise on objects. \n",
    "\n",
    "Those `ufunc` are included (compiled) in `numpy`. They include: \n",
    "\n",
    "- all mathematic operation: +, -, /, *, `**`, \n",
    "- Mathematical expressions: sin, exp, cos, log10, ... \n",
    "- Comparison operators <, >, =, ...\n",
    "- etc ... \n",
    "\n",
    "** Example:**\n",
    "``` python\n",
    "import numpy as np\n",
    "# Basic python\n",
    "a = [1,2,3,4,5]\n",
    "b=[ a + val for val in a]   # add 5 to each element of the list\n",
    "# In numpy\n",
    "a = np.array(a)\n",
    "b = a + 5                     # add 5 to each element of the array.\n",
    "```"
   ]
  },
  {
   "cell_type": "code",
   "execution_count": null,
   "metadata": {
    "collapsed": true
   },
   "outputs": [],
   "source": [
    "# implement the above example for a list of 1000 elements \n",
    "# use %timeit before calculating b to see improvement in speed"
   ]
  },
  {
   "cell_type": "markdown",
   "metadata": {},
   "source": [
    "### II.2. *aggregation*: \n",
    "\n",
    "functions which summarize values of an array such as `min`, `max`, `sum`, `mean`, ... \n",
    "\n",
    "** Example: **\n",
    "\n",
    "``` python\n",
    "# python version of an agregation\n",
    "from random import random\n",
    "c = [ random() for i in range(10000) ]\n",
    "%timeit min(c)\n",
    "#same in numpy:\n",
    "c = np.array(c)\n",
    "%timeit c.min()  \n",
    "```\n",
    "This also works on multidimensional arrays: \n",
    "\n",
    "``` python \n",
    "M = np.random.randint(0, 10, (10,4))\n",
    "M.sum(axis=0)\n",
    "M.sum(axis=1)\n",
    "```\n",
    "\n",
    "Aggregation available: \n",
    "`np.min()`, `np.max`, `np.prod()`, `np.mean()`, `np.std()`, `np.median()`, `np.any()`, `np.all()`, `np.nanmin()` (and nan versions of above aggregation), `np.argmin()`, `np.argmax()`, `np.percentile()`, ...\n"
   ]
  },
  {
   "cell_type": "code",
   "execution_count": 17,
   "metadata": {
    "collapsed": false
   },
   "outputs": [
    {
     "name": "stdout",
     "output_type": "stream",
     "text": [
      "The slowest run took 41.76 times longer than the fastest. This could mean that an intermediate result is being cached.\n",
      "10000 loops, best of 3: 20.1 µs per loop\n",
      "The slowest run took 15.60 times longer than the fastest. This could mean that an intermediate result is being cached.\n",
      "1000000 loops, best of 3: 1.86 µs per loop\n"
     ]
    }
   ],
   "source": [
    "import numpy as np\n",
    "from random import random\n",
    "c = [ random() for i in range(1000) ]\n",
    "%timeit min(c)\n",
    "#same in numpy:\n",
    "c = np.array(c)\n",
    "%timeit c.min() "
   ]
  },
  {
   "cell_type": "markdown",
   "metadata": {},
   "source": [
    "### III.3 *Broadcasting*: \n",
    "\n",
    "Set of rules by which `ufuncs` operates on arrays of different sizes and/or dimensions. \n",
    "\n",
    "The term [broadcasting](https://docs.scipy.org/doc/numpy/user/basics.broadcasting.html) describes how numpy treats arrays with different shapes during arithmetic operations. Subject to certain constraints, the smaller array is “broadcast” across the larger array so that they have compatible shapes. Broadcasting provides a means of vectorizing array operations so that looping occurs in C instead of Python. It does this without making needless copies of data and usually leads to efficient algorithm implementations. There are, however, cases where broadcasting is a bad idea because it leads to inefficient use of memory that slows computation.\n",
    "Application to three cases: \n",
    "\n",
    "![From astroML book](../Figures/fig_broadcast_visual_1.png)\n",
    "\n",
    "\n",
    "\n",
    "The rules / how this works:\n",
    "\n",
    "* If array shapes differ, left-pad the smaller shape with 1s \n",
    "* If any dimension does not match, broadcast the dimension with size 1\n",
    "* If neither non matching dimensions is 1 raise an error\n",
    "\n",
    "This broadcasting strategy allows one to avoid doing `for` loops for some operations. \n"
   ]
  },
  {
   "cell_type": "markdown",
   "metadata": {},
   "source": [
    "### III.4 Slicing, masking and fancy indexing:  \n",
    "\t \n",
    "- **Mask**: a mask is a boolean array that can be used to \"mask\" some indices of an array: \n",
    "``` python\n",
    "mask = np.array[[False, False, True, False, True, False]] \n",
    "c = np.array([1, 3, 6, 9, 10, 2])\n",
    "c[mask]\n",
    "    Out: array([6, 10])\n",
    "    \n",
    "mask = (c < 4) | (c > 8)\n",
    "c[mask]\n",
    "    Out: array([1, 3, 9, 10, 2])\n",
    "```\n",
    " \n",
    "- **Fancy indexing**: passing a list/array of indices to get elements of a numpy array  (this only works for arrays !) This avoids to loop over the indices. \n",
    "``` python\n",
    "ind = [1, 3, 4]\n",
    "c[ind]  \n",
    "   Out: array([3, 9, 10])\n",
    "```\n",
    "- **Multi-dimensional** array: first index is row, and second is column\n",
    "``` python\n",
    "M = np.arange(12).reshape((3,4))\n",
    "    Out: \n",
    "    array([[ 0,  1,  2,  3],\n",
    "           [ 4,  5,  6,  7],\n",
    "           [ 8,  9, 10, 11]])\n",
    "\n",
    "M[0,1] # gives value at row 0 and column 1. \n",
    "M[:, 1]  # Combines slices and indices -> all rows of column one\n",
    "M[M-3 < 2]# can also do masking of n dimensional array\n",
    "M[[1,0], :2] # Use fancy indexing and slicing - 1st 2 elements, of rows 1 and 2\n",
    "M[M.sum(axis=1) > 2, 4:] # mixing masking and slicing \n",
    "```\n",
    "An illustration of indexing in numpy arrays:\n",
    "![Illustration of `np` indexing](../Figures/numpy_indexing.png)\n",
    "\n",
    "**Exercise**:\n",
    "Try the different flavours of slicing, using start, end and step: starting from a linspace, try to obtain odd numbers counting backwards, and even numbers counting forwards.\n",
    "\n",
    "Reproduce the slices in the diagram above. You may use the following expression to create the array: `np.arange(6) + np.arange(0, 51, 10)[:, np.newaxis]`"
   ]
  },
  {
   "cell_type": "code",
   "execution_count": null,
   "metadata": {
    "collapsed": true
   },
   "outputs": [],
   "source": [
    "# Implement the exercise above"
   ]
  },
  {
   "cell_type": "markdown",
   "metadata": {},
   "source": [
    "## The standard library\n",
    "   \n",
    "This section gives an overview of the very useful modules methods you may need to use at some point to manage your files, directory structures, platform-related file naming conventions, ... \n",
    "\n",
    "### `os`: operating system functionality\n",
    "\n",
    "> “A portable way of using operating system dependent functionality.”\n",
    "\n",
    "#### Directory and file manipulation:\n",
    "\n",
    "- Current directory:   `os.getcwd()`    \n",
    "\n",
    "- List a directory:  `os.listdir(os.curdir)`\n",
    "\n",
    "- Make a directory:   `os.mkdir('junkdir')`\n",
    "\n",
    "- Rename the directory:  `os.rename('junkdir', 'foodir')`\n",
    "\n",
    "- Delete a file:  `os.remove('junk.txt')`\n"
   ]
  },
  {
   "cell_type": "code",
   "execution_count": 14,
   "metadata": {
    "collapsed": false
   },
   "outputs": [],
   "source": [
    "# Experiment with the use of OS and check-out the output\n",
    "print os.getcwd()\n",
    "print os.listdir(os.curdir)\n",
    "fp = open('junk.txt', 'w')    # first create an empty file\n",
    "fp.close()\n",
    "print 'junk.txt' in os.listdir(os.curdir)\n",
    "os.remove('junk.txt')\n",
    "print 'junk.txt' in os.listdir(os.curdir)"
   ]
  },
  {
   "cell_type": "markdown",
   "metadata": {},
   "source": [
    "### os.path: path manipulations\n",
    "\n",
    "`os.path` provides common operations on pathnames:\n",
    "\n",
    "- Get the absolute path name for a file in a directory: `a = os.path.abspath('junk.txt')`  \n",
    "``` python\n",
    ">>> a\n",
    "    '/Users/cburns/src/scipy2009/scipy_2009_tutorial/source/junk.txt'\n",
    "```\n",
    "- Split Path name and file name:  `os.path.split(a)`   \n",
    "\n",
    "- Get the path part of `a`:  `os.path.dirname(a)`     \n",
    "\n",
    "- Filename part of `a`:  `os.path.basename(a)`    \n",
    "    'junk.txt'\n",
    "\n",
    "- Split file name into name and extension: `os.path.splitext(os.path.basename(a))`   \n",
    "\n",
    "- Check existence of a file in a path: `os.path.exists('junk.txt')`   \n",
    "\n",
    "- Check that a filename corresponds to a file: `os.path.isfile('junk.txt')`   \n",
    "\n",
    "- Check for a directory name: `os.path.isdir('junk.txt')`    \n",
    "\n",
    "- Pathname corresponding to home of the user: `os.path.expanduser('~')`     \n",
    "\n",
    "- Create a string by merging pathnames/strings: `os.path.join(os.path.expanduser('~'), 'local', 'bin')`    \n"
   ]
  },
  {
   "cell_type": "markdown",
   "metadata": {},
   "source": [
    "### `subprocess`: running an external command\n",
    "\n",
    "This is also very useful to call an externally compiled program.\n",
    "- Call a simple command, wait for it to finish, and get the return code:\n",
    "\n",
    "```  python\n",
    "import subprocess\n",
    "subprocess.call('chmod +x filename', shell=True)\n",
    "```\n",
    "\n",
    "- Communicate with the process (try for example with some_program.f):\n",
    "\n",
    "``` python\n",
    ">>> p1 = subprocess.Popen('./some_program',stdout=subprocess.PIPE)\n",
    ">>> p1.stdout.readline()\n",
    ">>> p1.send_signal(signal.SIGSTOP)\n",
    ">>> p1.send_signal(signal.SIGCONT)\n",
    ">>> p1.send_signal(signal.SIGKILL)\n",
    "```\n",
    "\n",
    "** Notes: **\n",
    "\n",
    "How to communicate with a program during execution:\n",
    "\n",
    "Suppose we want to run a program, and check its output while it’s running. For this, we need to read the program’s standard output while it is running, wait for the next line to appear, and end the loop when the output stream is closed. This can be done with:\n",
    "``` python \n",
    "def line_at_a_time(fileobj):\n",
    "    while True:\n",
    "        line = fileobj.readline()\n",
    "        if not line:\n",
    "            return\n",
    "        yield line\n",
    "```\n",
    "\n",
    "Now, we can run the program and check the output. Suppose “myprogram” prints ERROR to the screen when it encountered an error, and we want to kill the program whenever that occurs:\n",
    "``` python \n",
    ">>> p1 = subprocess.Popen('./my_program',stdout=subprocess.PIPE)\n",
    ">>> for line in line_at_a_time(p1.stdout):\n",
    "        if \"ERROR\" in line:\n",
    "            p1.send_signal(signal.SIGKILL)\n",
    "```\n",
    "Similarly, you can use subprocess.PIPE to send data to stdin.\n"
   ]
  },
  {
   "cell_type": "markdown",
   "metadata": {},
   "source": [
    "### Environment variables:\n",
    "\n",
    "Get environment variable: \n",
    "\n",
    "- All defined environment variable:  `os.environ.keys()`   \n",
    "- Get the path to which corresponds a given env. variable:    \n",
    "`os.environ['PYTHONPATH']`     \n",
    "OR    \n",
    "`os.getenv('PYTHONPATH')`\n"
   ]
  },
  {
   "cell_type": "markdown",
   "metadata": {},
   "source": [
    "### `sys`: system-specific information\n",
    "\n",
    "This is particularly useful if you want to make a quick fix to import some python codes located in a specific directory, or to figure out which python is used when you have multiple python installed on the machine ... (these kind of problems can now be more easily avoided if you install python via conda ...). \n",
    "\n",
    "System-specific information related to the Python interpreter.\n",
    "\n",
    "- Which version of python are you running and where is it installed: \n",
    "        * Platform: `sys.platform`\n",
    "        * Version of python: `sys.version`\n",
    "        * Location of python used: 'sys.prefix`\n",
    "\n",
    "- List of command line arguments passed to a Python script: `sys.argv`\n",
    "\n",
    "- The  list of strings that specifies the search path for modules is initialized from PYTHONPATH, and obtained from:   `sys.path` "
   ]
  },
  {
   "cell_type": "markdown",
   "metadata": {},
   "source": [
    "## V. References / To know more:\n",
    "\n",
    "**Appendix A** of the book *Statistics, data mining and Machine learning in astronomy* by Z. Ivezic et al. in Princeton Series in Modern Astronomy.  \n",
    "\n",
    "Other useful references to know more about the topics covered in this class: \n",
    "    \n",
    "    - The python tutorial (Chap. 6): https://docs.python.org/2/tutorial/modules.html\n",
    "    \n",
    "    - Standard python library: http://www.ster.kuleuven.be/~pieterd/python/html/pure_python/standard_library.html\n",
    "    \n",
    "Excellent introducotry video introducing numpy (and that inspired part of the numpy section of this notebook) by J. Vandeplas: https://www.youtube.com/watch?v=EEUXKG97YRw\n",
    "\n",
    "Scipy lecture notes: (from which part of numpy, scipy, matplotlib tutorial are inspired): http://www.scipy-lectures.org/index.html  (creative Commons 4.0)\n",
    "\n",
    "Numpy quick-start: https://docs.scipy.org/doc/numpy-dev/user/quickstart.html"
   ]
  }
 ],
 "metadata": {
  "anaconda-cloud": {},
  "kernelspec": {
   "display_name": "Python [default]",
   "language": "python",
   "name": "python2"
  },
  "language_info": {
   "codemirror_mode": {
    "name": "ipython",
    "version": 2
   },
   "file_extension": ".py",
   "mimetype": "text/x-python",
   "name": "python",
   "nbconvert_exporter": "python",
   "pygments_lexer": "ipython2",
   "version": "2.7.12"
  }
 },
 "nbformat": 4,
 "nbformat_minor": 1
}
