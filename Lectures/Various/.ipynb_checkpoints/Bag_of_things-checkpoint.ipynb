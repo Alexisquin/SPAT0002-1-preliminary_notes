{
 "cells": [
  {
   "cell_type": "markdown",
   "metadata": {},
   "source": [
    "### Material to be added to existing lectures at un-defined places."
   ]
  },
  {
   "cell_type": "markdown",
   "metadata": {},
   "source": [
    "### III.x Useful TIPS\n",
    "\n",
    "This is a non exhaustive list of commands that you may not need to know the very first day you use python but may be interested to know before the end of this class ...\n",
    "\n",
    "1. List of all `environment variables` (helpful to figure out those that you may want to change)\n",
    "``` python\n",
    "%env\n",
    "```\n",
    "2. List of all magit comments\n",
    "\n",
    "``` python\n",
    "%lsmagic\n",
    "```\n",
    "3. \n",
    "``` python\n",
    "%quickref\n",
    "```"
   ]
  },
  {
   "cell_type": "code",
   "execution_count": 1,
   "metadata": {
    "collapsed": true
   },
   "outputs": [],
   "source": [
    "import numpy as np\n",
    "    \n",
    "from IPython.core.interactiveshell import InteractiveShell\n",
    "InteractiveShell.ast_node_interactivity = \"all\"\n",
    "\n",
    "from __future__ import print_function\n",
    "from ipywidgets import interact, interactive, fixed\n",
    "import ipywidgets as widgets"
   ]
  },
  {
   "cell_type": "code",
   "execution_count": null,
   "metadata": {
    "collapsed": true
   },
   "outputs": [],
   "source": [
    "@interact(x=True, y=1.0)\n",
    "def g(x, y):\n",
    "    return (x, y)\n"
   ]
  },
  {
   "cell_type": "markdown",
   "metadata": {},
   "source": [
    "Methods and Object-Oriented Programming  [From http://www.ster.kuleuven.be/~pieterd/python/html/pure_python/types.html]\n",
    "\n",
    "More on lists http://docs.python.org/tutorial/datastructures.html#more-on-lists\n",
    "\n",
    "The notation r.method() (r.sort(), r.append(3), l.pop()) is an example of object-oriented programming (OOP). Being a list, the object r owns the method function that is called using the notation `.`. No further knowledge of OOP than understanding the notation . is necessary for going through this tutorial.\n",
    "\n",
    "Most things in Python are objects! Every constant, variable, or function in Python is actually an object with a type and associated attributes and methods. An attribute a property of the object that you get or set by giving the <object_name> + dot + <attribute_name>, for example `img.shape`. A method is a function that the object provides, for example `img.argmax(axis=0)` or `img.min()`.\n",
    "\n",
    "In the IPython shell, we can take advantage of objects via tab completion:\n",
    "\n",
    "    >>> r.<TAB>\n",
    "    r.append   r.count    r.extend   r.index    r.insert   r.pop      r.remove   r.reverse  r.sort\n",
    "\n"
   ]
  },
  {
   "cell_type": "code",
   "execution_count": null,
   "metadata": {
    "collapsed": true
   },
   "outputs": [],
   "source": []
  }
 ],
 "metadata": {
  "anaconda-cloud": {},
  "kernelspec": {
   "display_name": "Python [default]",
   "language": "python",
   "name": "python2"
  },
  "language_info": {
   "codemirror_mode": {
    "name": "ipython",
    "version": 2
   },
   "file_extension": ".py",
   "mimetype": "text/x-python",
   "name": "python",
   "nbconvert_exporter": "python",
   "pygments_lexer": "ipython2",
   "version": "2.7.12"
  }
 },
 "nbformat": 4,
 "nbformat_minor": 1
}
