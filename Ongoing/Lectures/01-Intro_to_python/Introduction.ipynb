{
 "cells": [
  {
   "cell_type": "markdown",
   "metadata": {},
   "source": [
    "# About this course\n",
    "\n",
    "This course aims at providing you with a *practical* understanding of (some of) the statistical concepts/methods existing to analyse data (how to properly estimate errors, derive trends in data points, ...). For this, we will not only review the theory of data analysis but also spend time in learning to use some exisiting tools implementing those concepts. We will mostly pick topics among the following:  statistical classical or frequentist inference (i.e. Maximum Likelihood Estimation,  confidence interval via Jackknife and bootstrapping, hypothesis test), Baysian statistical inference (MCMC for confidence interval estimation, model selection). Finally, we will also introduce you to general principles of neural network and machine learning (supervised, unsupervised), giving more a taste of how this works. \n",
    " \n",
    "I know that if you choose to learn physics and astronomy, this was probably not to learn coding. Writing lines of code to execute routine tasks, do complex calculations, dig into large databases or simply analyze data is however part of astronomer's (and physicist's) life. The idea of this class is to provide you with a *toolbox* into which you will pick tools to extract all the relevant information from the data you have in hands. It is not only sufficient to know where is the tool ! We want to understand how to use them correctly and understand the concepts that make them such powerful ! \n",
    " \n",
    "In this notebook, you will often see a few lines starting with \"**Notes**\". Those notes can generally be skipped at first lecture, but may become more insightful when the reader (you !) is already familiar with the topic covered by the main text. \n",
    "\n",
    "These notebooks may evolve with time. Any comment, suggestions are welcome, in order to improve your learning experience and the one of the others.  \n",
    "\n",
    "This course aims at providing you with a *practical* understanding of (some of) the statistical concepts/methods existing to analyse data (how to properly estimate errors, derive trends in data points, ...). For this, we will not only review the theory of data analysis but also spend time in learning to use some exisiting tools implementing those concepts. We will mostly pick topics among the following:  statistical classical or frequentist inference (i.e. Maximum Likelihood Estimation,  confidence interval via Jackknife and bootstrapping, hypothesis test), Baysian statistical inference (MCMC for confidence interval estimation, model selection). Finally, we will also introduce you to general principles of neural network and machine learning (supervised, unsupervised), giving more a taste of how this works. \n",
    " \n",
    "I know that if you choose to learn physics and astronomy, this was probably not to learn coding. Writing lines of code to execute routine tasks, do complex calculations, dig into large databases or simply analyze data is however part of astronomer's (and physicist's) life. The idea of this class is to provide you with a *toolbox* into which you will pick tools to extract all the relevant information from the data you have in hands. It is not only sufficient to know where is the tool ! We want to understand how to use them correctly and understand the concepts that make them such powerful ! \n",
    " \n",
    "In this notebook, you will often see a few lines starting with \"**Notes**\". Those notes can generally be skipped at first lecture, but may become more insightful when the reader (you !) is already familiar with the topic covered by the main text. \n",
    "\n",
    "These notebooks may evolve with time. Any comment, suggestions are welcome, in order to improve your learning experience and the one of the others.  "
   ]
  },
  {
   "cell_type": "code",
   "execution_count": null,
   "metadata": {},
   "outputs": [],
   "source": []
  }
 ],
 "metadata": {
  "kernelspec": {
   "display_name": "Python 2",
   "language": "python",
   "name": "python2"
  },
  "language_info": {
   "codemirror_mode": {
    "name": "ipython",
    "version": 2
   },
   "file_extension": ".py",
   "mimetype": "text/x-python",
   "name": "python",
   "nbconvert_exporter": "python",
   "pygments_lexer": "ipython2",
   "version": "2.7.13"
  }
 },
 "nbformat": 4,
 "nbformat_minor": 2
}
